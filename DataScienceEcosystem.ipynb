{
 "cells": [
  {
   "cell_type": "markdown",
   "id": "0fc5c4ce-5a3a-450e-8c91-4383f8ee2a50",
   "metadata": {
    "tags": []
   },
   "source": [
    "# Data Science Tools and Ecosystem"
   ]
  },
  {
   "cell_type": "markdown",
   "id": "8bd25881-b085-4897-b5b9-7336c669eca3",
   "metadata": {},
   "source": [
    "In this notebook, Data Science Tools and Ecosystem are summarized."
   ]
  },
  {
   "cell_type": "markdown",
   "id": "a83393f4-7a80-4ebd-b79c-962906964ed8",
   "metadata": {},
   "source": [
    "**Objectives:**\n",
    "<ul>\n",
    "    <li>Some of the popular languages that Data Scientists use are\n",
    "    <li>Some of the commonly used libraries used by Data Scientists include\n",
    "    <li>Data Science Tools\n",
    "    <li>Below are a few examples of evaluating arithmetic expressions in Python"
   ]
  },
  {
   "cell_type": "markdown",
   "id": "d429d9e0-1601-4a50-a35f-11c81109ba2e",
   "metadata": {},
   "source": [
    "Some of the popular languages that Data Scientists use are:\n",
    "<ol>\n",
    "<li>Python\n",
    "<li>R_language\n",
    "<li>SQL\n",
    "<li>java\n",
    "<li>Scala\n",
    "<li>C++\n",
    "<li>Julia\n",
    "    <ol>"
   ]
  },
  {
   "cell_type": "markdown",
   "id": "8cdd4bb9-ddd2-4502-b577-5e61f53aa66f",
   "metadata": {},
   "source": [
    "Some of the commonly used libraries used by Data Scientists include:\n",
    "<ol>\n",
    "<li>Pandas\n",
    "<li>Numpy\n",
    "<li>Matplotlib\n",
    "<li>Seaborn\n",
    "<li>TensorFlow\n",
    "<li>Scikit-Lcare\n",
    "<li>Kiras\n",
    "    <ol>"
   ]
  },
  {
   "cell_type": "markdown",
   "id": "5880e403-3280-4366-bffb-7c2f2178e705",
   "metadata": {
    "tags": []
   },
   "source": [
    "## Data Science Tools\n",
    "|Data Science Tools|\n",
    "|------------------|\n",
    "|MY SQL|\n",
    "|AIRFLOW|\n",
    "|PIXIE DUST|\n",
    "|TENSOR FLOW|\n",
    "|MODEL DB|\n",
    "|WATSON STUDIO|"
   ]
  },
  {
   "cell_type": "markdown",
   "id": "762c600e-0040-4f4d-a529-26e642aa6a3b",
   "metadata": {
    "tags": []
   },
   "source": [
    "### Below are a few examples of evaluating arithmetic expressions in Python"
   ]
  },
  {
   "cell_type": "code",
   "execution_count": 4,
   "id": "6b126053-bde1-4503-b637-f20de37f3ae2",
   "metadata": {
    "tags": []
   },
   "outputs": [
    {
     "data": {
      "text/plain": [
       "17"
      ]
     },
     "execution_count": 4,
     "metadata": {},
     "output_type": "execute_result"
    }
   ],
   "source": [
    "# this a simple arithmetic expression to mutiply then add integers\n",
    "(3*4)+5"
   ]
  },
  {
   "cell_type": "code",
   "execution_count": 10,
   "id": "aa08cf9d-cc1f-4cb3-bb1c-1a73002287c1",
   "metadata": {
    "tags": []
   },
   "outputs": [
    {
     "name": "stdout",
     "output_type": "stream",
     "text": [
      "200 minutes= 3.3333333333333335 hours\n"
     ]
    }
   ],
   "source": [
    "# This will convert 200 minutes to hours by diving by 60\n",
    "n=200\n",
    "h=n/60\n",
    "print(n,\"minutes=\",h,\"hours\")"
   ]
  },
  {
   "cell_type": "markdown",
   "id": "49ebcd6d-3837-4825-83cb-522eea21cdef",
   "metadata": {},
   "source": [
    "## Author\n",
    "Pavan Kumar Sadhanaveni"
   ]
  }
 ],
 "metadata": {
  "kernelspec": {
   "display_name": "Python",
   "language": "python",
   "name": "conda-env-python-py"
  },
  "language_info": {
   "codemirror_mode": {
    "name": "ipython",
    "version": 3
   },
   "file_extension": ".py",
   "mimetype": "text/x-python",
   "name": "python",
   "nbconvert_exporter": "python",
   "pygments_lexer": "ipython3",
   "version": "3.7.12"
  }
 },
 "nbformat": 4,
 "nbformat_minor": 5
}
